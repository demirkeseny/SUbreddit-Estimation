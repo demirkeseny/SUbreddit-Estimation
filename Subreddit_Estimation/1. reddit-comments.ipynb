{
 "cells": [
  {
   "cell_type": "markdown",
   "metadata": {},
   "source": [
    "# Scrapping Entries from Reddit"
   ]
  },
  {
   "cell_type": "markdown",
   "metadata": {},
   "source": [
    "There are two TV series that I absolutely love. They reflect the real life problems. That's why I scrapped the subreddits of Black Mirror and WestWorld. In this notebook, I will go through the scraping."
   ]
  },
  {
   "cell_type": "code",
   "execution_count": 1,
   "metadata": {},
   "outputs": [],
   "source": [
    "# libraries needed:\n",
    "import requests\n",
    "import time\n",
    "import pandas as pd\n",
    "import numpy as np"
   ]
  },
  {
   "cell_type": "markdown",
   "metadata": {},
   "source": [
    "## Black Mirror Posts"
   ]
  },
  {
   "cell_type": "markdown",
   "metadata": {},
   "source": [
    "To scrap the data, I used the api push. That enabled me to scrap data in less than a minute."
   ]
  },
  {
   "cell_type": "code",
   "execution_count": 22,
   "metadata": {
    "scrolled": true
   },
   "outputs": [
    {
     "name": "stdout",
     "output_type": "stream",
     "text": [
      "grabbing 500 posts...\n",
      "grabbing 1000 posts...\n",
      "grabbing 1500 posts...\n",
      "grabbing 2000 posts...\n",
      "grabbing 2500 posts...\n",
      "grabbing 3000 posts...\n",
      "grabbing 3500 posts...\n",
      "grabbing 4000 posts...\n",
      "grabbing 4500 posts...\n",
      "grabbing 5000 posts...\n",
      "grabbing 5500 posts...\n",
      "grabbing 6000 posts...\n",
      "grabbing 6500 posts...\n",
      "grabbing 7000 posts...\n",
      "grabbing 7500 posts...\n",
      "grabbing 8000 posts...\n",
      "grabbing 8500 posts...\n",
      "grabbing 9000 posts...\n",
      "grabbing 9500 posts...\n",
      "grabbing 10000 posts...\n"
     ]
    }
   ],
   "source": [
    "def get_author_comments(**kwargs):\n",
    "    r = requests.get(\"https://api.pushshift.io/reddit/submission/search/\",params=kwargs)\n",
    "    data = r.json()\n",
    "    return data['data']\n",
    "\n",
    "before = None\n",
    "all_posts = []\n",
    "for i in range(20):\n",
    "    print('grabbing {} posts...'.format((i+1)*500))\n",
    "    posts = get_author_comments(subreddit=\"blackmirror\",size=500,before=before,sort='desc',sort_type='created_utc')\n",
    "\n",
    "    before = posts[-1]['created_utc'] # This will keep track of your position for the next call in the while loop\n",
    "     \n",
    "    all_posts.extend(posts)\n",
    "\n",
    "    time.sleep(1)"
   ]
  },
  {
   "cell_type": "markdown",
   "metadata": {},
   "source": [
    "At the end I have the following amount of posts:"
   ]
  },
  {
   "cell_type": "code",
   "execution_count": 3,
   "metadata": {},
   "outputs": [
    {
     "data": {
      "text/plain": [
       "10000"
      ]
     },
     "execution_count": 3,
     "metadata": {},
     "output_type": "execute_result"
    }
   ],
   "source": [
    "len(all_posts)"
   ]
  },
  {
   "cell_type": "markdown",
   "metadata": {},
   "source": [
    "Then I needed to check the number of unique ID's. That is very important because a common problem is having duplicated posts since 10000 is a big number. Thanks to push api, I had all different."
   ]
  },
  {
   "cell_type": "code",
   "execution_count": 4,
   "metadata": {
    "scrolled": false
   },
   "outputs": [
    {
     "data": {
      "text/plain": [
       "10000"
      ]
     },
     "execution_count": 4,
     "metadata": {},
     "output_type": "execute_result"
    }
   ],
   "source": [
    "ids = []\n",
    "for i in range(0,len(all_posts)):\n",
    "    ids.append(all_posts[i]['id'])\n",
    "len(set(ids))"
   ]
  },
  {
   "cell_type": "markdown",
   "metadata": {},
   "source": [
    "Below is all the data related to the first post:"
   ]
  },
  {
   "cell_type": "code",
   "execution_count": 5,
   "metadata": {
    "scrolled": true
   },
   "outputs": [
    {
     "data": {
      "text/plain": [
       "{'author': 'ismael676',\n",
       " 'author_flair_css_class': None,\n",
       " 'author_flair_richtext': [],\n",
       " 'author_flair_text': None,\n",
       " 'author_flair_type': 'text',\n",
       " 'author_fullname': 't2_q2mzyzm',\n",
       " 'author_patreon_flair': False,\n",
       " 'can_mod_post': False,\n",
       " 'contest_mode': False,\n",
       " 'created_utc': 1545417655,\n",
       " 'domain': 'news.mit.edu',\n",
       " 'full_link': 'https://www.reddit.com/r/blackmirror/comments/a8czdm/mit_was_able_to_reconstruct_sound_from_the/',\n",
       " 'gildings': {'gid_1': 0, 'gid_2': 0, 'gid_3': 0},\n",
       " 'id': 'a8czdm',\n",
       " 'is_crosspostable': True,\n",
       " 'is_meta': False,\n",
       " 'is_original_content': False,\n",
       " 'is_reddit_media_domain': False,\n",
       " 'is_robot_indexable': True,\n",
       " 'is_self': False,\n",
       " 'is_video': False,\n",
       " 'link_flair_background_color': '',\n",
       " 'link_flair_css_class': 'yellow',\n",
       " 'link_flair_richtext': [{'e': 'text', 't': 'FLUFF'}],\n",
       " 'link_flair_text': 'FLUFF',\n",
       " 'link_flair_text_color': 'dark',\n",
       " 'link_flair_type': 'richtext',\n",
       " 'locked': False,\n",
       " 'media_only': False,\n",
       " 'no_follow': True,\n",
       " 'num_comments': 0,\n",
       " 'num_crossposts': 0,\n",
       " 'over_18': False,\n",
       " 'parent_whitelist_status': 'all_ads',\n",
       " 'permalink': '/r/blackmirror/comments/a8czdm/mit_was_able_to_reconstruct_sound_from_the/',\n",
       " 'pinned': False,\n",
       " 'pwls': 6,\n",
       " 'retrieved_on': 1545417656,\n",
       " 'score': 1,\n",
       " 'selftext': '',\n",
       " 'send_replies': True,\n",
       " 'spoiler': False,\n",
       " 'stickied': False,\n",
       " 'subreddit': 'blackmirror',\n",
       " 'subreddit_id': 't5_2v08h',\n",
       " 'subreddit_subscribers': 188862,\n",
       " 'subreddit_type': 'public',\n",
       " 'thumbnail': 'default',\n",
       " 'title': 'MIT was able to reconstruct sound from the vibrations hitting a potato chip bag.',\n",
       " 'url': 'http://news.mit.edu/2014/algorithm-recovers-speech-from-vibrations-0804?platform=hootsuite',\n",
       " 'whitelist_status': 'all_ads',\n",
       " 'wls': 6}"
      ]
     },
     "execution_count": 5,
     "metadata": {},
     "output_type": "execute_result"
    }
   ],
   "source": [
    "all_posts[0]"
   ]
  },
  {
   "cell_type": "markdown",
   "metadata": {},
   "source": [
    "Here there are many columns that need to be extracted. The reason is I won't include them to the analysis. In order to do that, I extracted each element as one and then appended those to a list. The important columns are:\n",
    " - created_utc\n",
    " -   id\n",
    " -   is_video\n",
    " -   num_comments\n",
    " -   score\n",
    " -   selftext\n",
    " -   spoiler\n",
    " -   subreddit\n",
    " -   title\n",
    " \n",
    "Below I created an empty lists for each column. Then I appended each element to these lists. When there is no element, then I added an empty element so that the list still has 10000 elements."
   ]
  },
  {
   "cell_type": "code",
   "execution_count": 6,
   "metadata": {},
   "outputs": [],
   "source": [
    "bm_utc = []\n",
    "bm_id = []\n",
    "bm_num_comments = []\n",
    "bm_score = []\n",
    "bm_selftext = []\n",
    "bm_spoiler = []\n",
    "bm_subreddit = []\n",
    "bm_title = []\n",
    "\n",
    "##############################\n",
    "\n",
    "for i in range(0,len(all_posts)):\n",
    "    bm_utc.append(all_posts[i]['created_utc'] if all_posts[i]['created_utc'] != '' else 'NA')\n",
    "    bm_id.append(all_posts[i]['id'] if all_posts[i]['id'] != '' else None)\n",
    "    #bm_is_video.append(all_posts[i]['is_video'] if all_posts[i]['is_video'] != '' else None)\n",
    "    bm_num_comments.append(all_posts[i]['num_comments'] if all_posts[i]['num_comments'] != '' else None)\n",
    "    bm_score.append(all_posts[i]['score'] if all_posts[i]['score'] != '' else None)\n",
    "    bm_spoiler.append(all_posts[i]['spoiler'] if all_posts[i]['spoiler'] != '' else None)\n",
    "    bm_subreddit.append(all_posts[i]['subreddit'] if all_posts[i]['subreddit'] != '' else None)\n",
    "    bm_title.append(all_posts[i]['title'] if all_posts[i]['title'] != '' else None)\n"
   ]
  },
  {
   "cell_type": "markdown",
   "metadata": {},
   "source": [
    "But the 'selftext' column is a little bit different than the rest. Since the empty values might create a KeyError, I used an try-except phrase. This helped me to bypass the error in case I need to. "
   ]
  },
  {
   "cell_type": "code",
   "execution_count": 7,
   "metadata": {},
   "outputs": [],
   "source": [
    "bm_text = []\n",
    "bm_is_video = []\n",
    "for i in range(0,len(all_posts)):\n",
    "    try : all_posts[i]['selftext']\n",
    "    except KeyError : all_posts[i]['selftext'] = ''\n",
    "    bm_text.append(all_posts[i]['selftext'])\n",
    "for i in range(0,len(all_posts)):\n",
    "    try : all_posts[i]['is_video']\n",
    "    except KeyError : all_posts[i]['is_video'] = ''\n",
    "    bm_is_video.append(all_posts[i]['is_video'])"
   ]
  },
  {
   "cell_type": "markdown",
   "metadata": {},
   "source": [
    "Below I created a dataframe for the posts from the subreddit of Black Mirror!"
   ]
  },
  {
   "cell_type": "code",
   "execution_count": 8,
   "metadata": {},
   "outputs": [],
   "source": [
    "black_mirror = pd.DataFrame(\n",
    "    {'created_utc' : bm_utc,\n",
    "     'id': bm_id,\n",
    "     'is_video' : bm_is_video,\n",
    "     'num_comments' : bm_num_comments,\n",
    "     'score' : bm_score,\n",
    "     'selftext' : bm_text,\n",
    "     'spoiler' : bm_spoiler,\n",
    "     'subreddit' : bm_subreddit,\n",
    "     'title': bm_title\n",
    "    }\n",
    ")"
   ]
  },
  {
   "cell_type": "code",
   "execution_count": 9,
   "metadata": {},
   "outputs": [],
   "source": [
    "counter = 0\n",
    "for i in range(0,len(black_mirror)):\n",
    "    if black_mirror.selftext[i] == '':\n",
    "        counter += 1\n",
    "    else:\n",
    "        continue"
   ]
  },
  {
   "cell_type": "markdown",
   "metadata": {},
   "source": [
    "For our analysis, it is very important to know the number of the empty posts, in other words posts without body. With the help if the above code we see that there are 4310 empty elements. This number might vary since we are always pulling new data."
   ]
  },
  {
   "cell_type": "code",
   "execution_count": 10,
   "metadata": {},
   "outputs": [
    {
     "data": {
      "text/plain": [
       "4321"
      ]
     },
     "execution_count": 10,
     "metadata": {},
     "output_type": "execute_result"
    }
   ],
   "source": [
    "counter"
   ]
  },
  {
   "cell_type": "markdown",
   "metadata": {},
   "source": [
    "## WestWorld Posts"
   ]
  },
  {
   "cell_type": "markdown",
   "metadata": {},
   "source": [
    "To do the same for our next favourite tv series, I combined all the code:"
   ]
  },
  {
   "cell_type": "code",
   "execution_count": 11,
   "metadata": {},
   "outputs": [
    {
     "name": "stdout",
     "output_type": "stream",
     "text": [
      "grabbing 500 posts...\n",
      "grabbing 1000 posts...\n",
      "grabbing 1500 posts...\n",
      "grabbing 2000 posts...\n",
      "grabbing 2500 posts...\n",
      "grabbing 3000 posts...\n",
      "grabbing 3500 posts...\n",
      "grabbing 4000 posts...\n",
      "grabbing 4500 posts...\n",
      "grabbing 5000 posts...\n",
      "grabbing 5500 posts...\n",
      "grabbing 6000 posts...\n",
      "grabbing 6500 posts...\n",
      "grabbing 7000 posts...\n",
      "grabbing 7500 posts...\n",
      "grabbing 8000 posts...\n",
      "grabbing 8500 posts...\n",
      "grabbing 9000 posts...\n",
      "grabbing 9500 posts...\n",
      "grabbing 10000 posts...\n"
     ]
    }
   ],
   "source": [
    "def get_author_comments(**kwargs):\n",
    "    r = requests.get(\"https://api.pushshift.io/reddit/submission/search/\",params=kwargs)\n",
    "    data = r.json()\n",
    "    return data['data']\n",
    "\n",
    "before = None\n",
    "all_posts = []\n",
    "for i in range(20):\n",
    "    print('grabbing {} posts...'.format((i+1)*500))\n",
    "    posts = get_author_comments(subreddit='westworld', size=500,before=before,sort='desc',sort_type='created_utc')\n",
    "\n",
    "    before = posts[-1]['created_utc'] # This will keep track of your position for the next call in the while loop\n",
    "\n",
    "    all_posts.extend(posts)\n",
    "\n",
    "    time.sleep(1)"
   ]
  },
  {
   "cell_type": "code",
   "execution_count": 12,
   "metadata": {},
   "outputs": [],
   "source": [
    "ww_utc = []\n",
    "ww_id = []\n",
    "ww_num_comments = []\n",
    "ww_score = []\n",
    "ww_selftext = []\n",
    "ww_spoiler = []\n",
    "ww_subreddit = []\n",
    "ww_title = []\n",
    "\n",
    "    ##############################\n",
    "\n",
    "for i in range(0,len(all_posts)):\n",
    "    ww_utc.append(all_posts[i]['created_utc'] if all_posts[i]['created_utc'] != '' else 'NA')\n",
    "    ww_id.append(all_posts[i]['id'] if all_posts[i]['id'] != '' else None)\n",
    "    #ww_is_video.append(all_posts[i]['is_video'] if all_posts[i]['is_video'] != '' else None)\n",
    "    ww_num_comments.append(all_posts[i]['num_comments'] if all_posts[i]['num_comments'] != '' else None)\n",
    "    ww_score.append(all_posts[i]['score'] if all_posts[i]['score'] != '' else None)\n",
    "    ww_spoiler.append(all_posts[i]['spoiler'] if all_posts[i]['spoiler'] != '' else None)\n",
    "    ww_subreddit.append(all_posts[i]['subreddit'] if all_posts[i]['subreddit'] != '' else None)\n",
    "    ww_title.append(all_posts[i]['title'] if all_posts[i]['title'] != '' else None)"
   ]
  },
  {
   "cell_type": "code",
   "execution_count": 13,
   "metadata": {},
   "outputs": [],
   "source": [
    "ww_text = []\n",
    "ww_is_video = []\n",
    "\n",
    "for i in range(0,len(all_posts)):\n",
    "    try : all_posts[i]['selftext']\n",
    "    except KeyError : all_posts[i]['selftext'] = ''\n",
    "    ww_text.append(all_posts[i]['selftext'])\n",
    "    \n",
    "for i in range(0,len(all_posts)):\n",
    "    try : all_posts[i]['is_video']\n",
    "    except KeyError : all_posts[i]['is_video'] = ''\n",
    "    ww_is_video.append(all_posts[i]['is_video'])"
   ]
  },
  {
   "cell_type": "code",
   "execution_count": 14,
   "metadata": {},
   "outputs": [],
   "source": [
    "west_world = pd.DataFrame(\n",
    "    {'created_utc' : ww_utc,\n",
    "     'id': ww_id,\n",
    "     'is_video' : ww_is_video,\n",
    "     'num_comments' : ww_num_comments,\n",
    "     'score' : ww_score,\n",
    "     'selftext' : ww_text,\n",
    "     'spoiler' : ww_spoiler,\n",
    "     'subreddit' : ww_subreddit,\n",
    "     'title': ww_title\n",
    "    }\n",
    ")\n",
    "\n",
    "    ######################################"
   ]
  },
  {
   "cell_type": "code",
   "execution_count": 15,
   "metadata": {},
   "outputs": [
    {
     "name": "stdout",
     "output_type": "stream",
     "text": [
      "4110\n"
     ]
    }
   ],
   "source": [
    "counter = 0\n",
    "for i in range(0,len(west_world)):\n",
    "    if west_world.selftext[i] == '':\n",
    "        counter += 1\n",
    "    else:\n",
    "        continue\n",
    "print(counter)"
   ]
  },
  {
   "cell_type": "markdown",
   "metadata": {},
   "source": [
    "## Convert them to csv files"
   ]
  },
  {
   "cell_type": "markdown",
   "metadata": {},
   "source": [
    "Let's check both of the dataframes one last time before converting them to csv files:"
   ]
  },
  {
   "cell_type": "code",
   "execution_count": 16,
   "metadata": {},
   "outputs": [
    {
     "data": {
      "text/html": [
       "<div>\n",
       "<style scoped>\n",
       "    .dataframe tbody tr th:only-of-type {\n",
       "        vertical-align: middle;\n",
       "    }\n",
       "\n",
       "    .dataframe tbody tr th {\n",
       "        vertical-align: top;\n",
       "    }\n",
       "\n",
       "    .dataframe thead th {\n",
       "        text-align: right;\n",
       "    }\n",
       "</style>\n",
       "<table border=\"1\" class=\"dataframe\">\n",
       "  <thead>\n",
       "    <tr style=\"text-align: right;\">\n",
       "      <th></th>\n",
       "      <th>created_utc</th>\n",
       "      <th>id</th>\n",
       "      <th>is_video</th>\n",
       "      <th>num_comments</th>\n",
       "      <th>score</th>\n",
       "      <th>selftext</th>\n",
       "      <th>spoiler</th>\n",
       "      <th>subreddit</th>\n",
       "      <th>title</th>\n",
       "    </tr>\n",
       "  </thead>\n",
       "  <tbody>\n",
       "    <tr>\n",
       "      <th>0</th>\n",
       "      <td>1545417655</td>\n",
       "      <td>a8czdm</td>\n",
       "      <td>False</td>\n",
       "      <td>0</td>\n",
       "      <td>1</td>\n",
       "      <td></td>\n",
       "      <td>False</td>\n",
       "      <td>blackmirror</td>\n",
       "      <td>MIT was able to reconstruct sound from the vib...</td>\n",
       "    </tr>\n",
       "    <tr>\n",
       "      <th>1</th>\n",
       "      <td>1545415295</td>\n",
       "      <td>a8cklh</td>\n",
       "      <td>False</td>\n",
       "      <td>1</td>\n",
       "      <td>1</td>\n",
       "      <td></td>\n",
       "      <td>False</td>\n",
       "      <td>blackmirror</td>\n",
       "      <td>'Black Mirror: Bandersnatch' Synopsis, Runtime...</td>\n",
       "    </tr>\n",
       "    <tr>\n",
       "      <th>2</th>\n",
       "      <td>1545413557</td>\n",
       "      <td>a8c9tm</td>\n",
       "      <td>False</td>\n",
       "      <td>0</td>\n",
       "      <td>1</td>\n",
       "      <td></td>\n",
       "      <td>True</td>\n",
       "      <td>blackmirror</td>\n",
       "      <td>What is Black Mirror: Bandersnatch?</td>\n",
       "    </tr>\n",
       "    <tr>\n",
       "      <th>3</th>\n",
       "      <td>1545410154</td>\n",
       "      <td>a8bozn</td>\n",
       "      <td>False</td>\n",
       "      <td>4</td>\n",
       "      <td>1</td>\n",
       "      <td>not sure if i need to mark this as possible sp...</td>\n",
       "      <td>True</td>\n",
       "      <td>blackmirror</td>\n",
       "      <td>White Christmas Ending</td>\n",
       "    </tr>\n",
       "    <tr>\n",
       "      <th>4</th>\n",
       "      <td>1545404674</td>\n",
       "      <td>a8at5v</td>\n",
       "      <td>False</td>\n",
       "      <td>1</td>\n",
       "      <td>1</td>\n",
       "      <td></td>\n",
       "      <td>False</td>\n",
       "      <td>blackmirror</td>\n",
       "      <td>This is a playlist with songs from some of the...</td>\n",
       "    </tr>\n",
       "  </tbody>\n",
       "</table>\n",
       "</div>"
      ],
      "text/plain": [
       "   created_utc      id  is_video  num_comments  score  \\\n",
       "0   1545417655  a8czdm     False             0      1   \n",
       "1   1545415295  a8cklh     False             1      1   \n",
       "2   1545413557  a8c9tm     False             0      1   \n",
       "3   1545410154  a8bozn     False             4      1   \n",
       "4   1545404674  a8at5v     False             1      1   \n",
       "\n",
       "                                            selftext  spoiler    subreddit  \\\n",
       "0                                                       False  blackmirror   \n",
       "1                                                       False  blackmirror   \n",
       "2                                                        True  blackmirror   \n",
       "3  not sure if i need to mark this as possible sp...     True  blackmirror   \n",
       "4                                                       False  blackmirror   \n",
       "\n",
       "                                               title  \n",
       "0  MIT was able to reconstruct sound from the vib...  \n",
       "1  'Black Mirror: Bandersnatch' Synopsis, Runtime...  \n",
       "2                What is Black Mirror: Bandersnatch?  \n",
       "3                             White Christmas Ending  \n",
       "4  This is a playlist with songs from some of the...  "
      ]
     },
     "execution_count": 16,
     "metadata": {},
     "output_type": "execute_result"
    }
   ],
   "source": [
    "black_mirror.head()"
   ]
  },
  {
   "cell_type": "code",
   "execution_count": 17,
   "metadata": {},
   "outputs": [
    {
     "data": {
      "text/html": [
       "<div>\n",
       "<style scoped>\n",
       "    .dataframe tbody tr th:only-of-type {\n",
       "        vertical-align: middle;\n",
       "    }\n",
       "\n",
       "    .dataframe tbody tr th {\n",
       "        vertical-align: top;\n",
       "    }\n",
       "\n",
       "    .dataframe thead th {\n",
       "        text-align: right;\n",
       "    }\n",
       "</style>\n",
       "<table border=\"1\" class=\"dataframe\">\n",
       "  <thead>\n",
       "    <tr style=\"text-align: right;\">\n",
       "      <th></th>\n",
       "      <th>created_utc</th>\n",
       "      <th>id</th>\n",
       "      <th>is_video</th>\n",
       "      <th>num_comments</th>\n",
       "      <th>score</th>\n",
       "      <th>selftext</th>\n",
       "      <th>spoiler</th>\n",
       "      <th>subreddit</th>\n",
       "      <th>title</th>\n",
       "    </tr>\n",
       "  </thead>\n",
       "  <tbody>\n",
       "    <tr>\n",
       "      <th>0</th>\n",
       "      <td>1545416118</td>\n",
       "      <td>a8cprr</td>\n",
       "      <td>False</td>\n",
       "      <td>2</td>\n",
       "      <td>1</td>\n",
       "      <td></td>\n",
       "      <td>False</td>\n",
       "      <td>westworld</td>\n",
       "      <td>Is this....Bernard? Nah, just my friend's mom'...</td>\n",
       "    </tr>\n",
       "    <tr>\n",
       "      <th>1</th>\n",
       "      <td>1545377064</td>\n",
       "      <td>a87law</td>\n",
       "      <td>False</td>\n",
       "      <td>1</td>\n",
       "      <td>1</td>\n",
       "      <td></td>\n",
       "      <td>False</td>\n",
       "      <td>westworld</td>\n",
       "      <td>Is there cheaper ways to watch than Hulu?</td>\n",
       "    </tr>\n",
       "    <tr>\n",
       "      <th>2</th>\n",
       "      <td>1545371104</td>\n",
       "      <td>a86vwk</td>\n",
       "      <td>False</td>\n",
       "      <td>3</td>\n",
       "      <td>1</td>\n",
       "      <td></td>\n",
       "      <td>False</td>\n",
       "      <td>westworld</td>\n",
       "      <td>Anyone else think it’s funny that Tessa Thomps...</td>\n",
       "    </tr>\n",
       "    <tr>\n",
       "      <th>3</th>\n",
       "      <td>1545370046</td>\n",
       "      <td>a86r6o</td>\n",
       "      <td>False</td>\n",
       "      <td>0</td>\n",
       "      <td>1</td>\n",
       "      <td></td>\n",
       "      <td>False</td>\n",
       "      <td>westworld</td>\n",
       "      <td>Black Mirror [Online Game Code] is 67% OFF</td>\n",
       "    </tr>\n",
       "    <tr>\n",
       "      <th>4</th>\n",
       "      <td>1545364029</td>\n",
       "      <td>a860qt</td>\n",
       "      <td>False</td>\n",
       "      <td>2</td>\n",
       "      <td>1</td>\n",
       "      <td></td>\n",
       "      <td>False</td>\n",
       "      <td>westworld</td>\n",
       "      <td>Clicked on Trending and thought that they rele...</td>\n",
       "    </tr>\n",
       "  </tbody>\n",
       "</table>\n",
       "</div>"
      ],
      "text/plain": [
       "   created_utc      id  is_video  num_comments  score selftext  spoiler  \\\n",
       "0   1545416118  a8cprr     False             2      1             False   \n",
       "1   1545377064  a87law     False             1      1             False   \n",
       "2   1545371104  a86vwk     False             3      1             False   \n",
       "3   1545370046  a86r6o     False             0      1             False   \n",
       "4   1545364029  a860qt     False             2      1             False   \n",
       "\n",
       "   subreddit                                              title  \n",
       "0  westworld  Is this....Bernard? Nah, just my friend's mom'...  \n",
       "1  westworld          Is there cheaper ways to watch than Hulu?  \n",
       "2  westworld  Anyone else think it’s funny that Tessa Thomps...  \n",
       "3  westworld         Black Mirror [Online Game Code] is 67% OFF  \n",
       "4  westworld  Clicked on Trending and thought that they rele...  "
      ]
     },
     "execution_count": 17,
     "metadata": {},
     "output_type": "execute_result"
    }
   ],
   "source": [
    "west_world.head()"
   ]
  },
  {
   "cell_type": "code",
   "execution_count": 18,
   "metadata": {},
   "outputs": [],
   "source": [
    "black_mirror.to_csv('blackmirror.csv')\n",
    "west_world.to_csv('westworld.csv')"
   ]
  }
 ],
 "metadata": {
  "kernelspec": {
   "display_name": "Python 3",
   "language": "python",
   "name": "python3"
  },
  "language_info": {
   "codemirror_mode": {
    "name": "ipython",
    "version": 3
   },
   "file_extension": ".py",
   "mimetype": "text/x-python",
   "name": "python",
   "nbconvert_exporter": "python",
   "pygments_lexer": "ipython3",
   "version": "3.6.6"
  }
 },
 "nbformat": 4,
 "nbformat_minor": 2
}
