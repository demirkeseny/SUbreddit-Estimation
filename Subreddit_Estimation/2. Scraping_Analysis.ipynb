{
 "cells": [
  {
   "cell_type": "markdown",
   "metadata": {},
   "source": [
    "# Scraping Analysis"
   ]
  },
  {
   "cell_type": "markdown",
   "metadata": {},
   "source": [
    "## EDA"
   ]
  },
  {
   "cell_type": "code",
   "execution_count": 1,
   "metadata": {},
   "outputs": [],
   "source": [
    "# Necessary libraries:\n",
    "import pandas as pd\n",
    "import numpy as np\n",
    "from sklearn.model_selection import train_test_split\n",
    "from sklearn.feature_extraction.text import CountVectorizer\n",
    "from bs4 import BeautifulSoup        \n",
    "import nltk\n",
    "from nltk.corpus import stopwords\n",
    "from nltk.stem import WordNetLemmatizer\n",
    "from nltk.tokenize import RegexpTokenizer\n",
    "import regex as re\n",
    "from nltk.stem.porter import PorterStemmer"
   ]
  },
  {
   "cell_type": "code",
   "execution_count": 2,
   "metadata": {
    "scrolled": true
   },
   "outputs": [
    {
     "name": "stdout",
     "output_type": "stream",
     "text": [
      "Requirement already satisfied: regex in c:\\users\\demir\\anaconda3\\lib\\site-packages (2018.11.22)\n"
     ]
    }
   ],
   "source": [
    "!pip install regex"
   ]
  },
  {
   "cell_type": "markdown",
   "metadata": {},
   "source": [
    "After necessary packages are downloaded, we upload the csv files for the series that I scraped in the previous notebook."
   ]
  },
  {
   "cell_type": "code",
   "execution_count": 3,
   "metadata": {},
   "outputs": [],
   "source": [
    "blackmirror = pd.read_csv('./blackmirror.csv')\n",
    "westworld = pd.read_csv('./westworld.csv')"
   ]
  },
  {
   "cell_type": "code",
   "execution_count": 4,
   "metadata": {},
   "outputs": [
    {
     "data": {
      "text/html": [
       "<div>\n",
       "<style scoped>\n",
       "    .dataframe tbody tr th:only-of-type {\n",
       "        vertical-align: middle;\n",
       "    }\n",
       "\n",
       "    .dataframe tbody tr th {\n",
       "        vertical-align: top;\n",
       "    }\n",
       "\n",
       "    .dataframe thead th {\n",
       "        text-align: right;\n",
       "    }\n",
       "</style>\n",
       "<table border=\"1\" class=\"dataframe\">\n",
       "  <thead>\n",
       "    <tr style=\"text-align: right;\">\n",
       "      <th></th>\n",
       "      <th>Unnamed: 0</th>\n",
       "      <th>created_utc</th>\n",
       "      <th>id</th>\n",
       "      <th>is_video</th>\n",
       "      <th>num_comments</th>\n",
       "      <th>score</th>\n",
       "      <th>selftext</th>\n",
       "      <th>spoiler</th>\n",
       "      <th>subreddit</th>\n",
       "      <th>title</th>\n",
       "    </tr>\n",
       "  </thead>\n",
       "  <tbody>\n",
       "    <tr>\n",
       "      <th>0</th>\n",
       "      <td>0</td>\n",
       "      <td>1545417655</td>\n",
       "      <td>a8czdm</td>\n",
       "      <td>False</td>\n",
       "      <td>0</td>\n",
       "      <td>1</td>\n",
       "      <td>NaN</td>\n",
       "      <td>False</td>\n",
       "      <td>blackmirror</td>\n",
       "      <td>MIT was able to reconstruct sound from the vib...</td>\n",
       "    </tr>\n",
       "    <tr>\n",
       "      <th>1</th>\n",
       "      <td>1</td>\n",
       "      <td>1545415295</td>\n",
       "      <td>a8cklh</td>\n",
       "      <td>False</td>\n",
       "      <td>1</td>\n",
       "      <td>1</td>\n",
       "      <td>NaN</td>\n",
       "      <td>False</td>\n",
       "      <td>blackmirror</td>\n",
       "      <td>'Black Mirror: Bandersnatch' Synopsis, Runtime...</td>\n",
       "    </tr>\n",
       "    <tr>\n",
       "      <th>2</th>\n",
       "      <td>2</td>\n",
       "      <td>1545413557</td>\n",
       "      <td>a8c9tm</td>\n",
       "      <td>False</td>\n",
       "      <td>0</td>\n",
       "      <td>1</td>\n",
       "      <td>NaN</td>\n",
       "      <td>True</td>\n",
       "      <td>blackmirror</td>\n",
       "      <td>What is Black Mirror: Bandersnatch?</td>\n",
       "    </tr>\n",
       "    <tr>\n",
       "      <th>3</th>\n",
       "      <td>3</td>\n",
       "      <td>1545410154</td>\n",
       "      <td>a8bozn</td>\n",
       "      <td>False</td>\n",
       "      <td>4</td>\n",
       "      <td>1</td>\n",
       "      <td>not sure if i need to mark this as possible sp...</td>\n",
       "      <td>True</td>\n",
       "      <td>blackmirror</td>\n",
       "      <td>White Christmas Ending</td>\n",
       "    </tr>\n",
       "    <tr>\n",
       "      <th>4</th>\n",
       "      <td>4</td>\n",
       "      <td>1545404674</td>\n",
       "      <td>a8at5v</td>\n",
       "      <td>False</td>\n",
       "      <td>1</td>\n",
       "      <td>1</td>\n",
       "      <td>NaN</td>\n",
       "      <td>False</td>\n",
       "      <td>blackmirror</td>\n",
       "      <td>This is a playlist with songs from some of the...</td>\n",
       "    </tr>\n",
       "  </tbody>\n",
       "</table>\n",
       "</div>"
      ],
      "text/plain": [
       "   Unnamed: 0  created_utc      id  is_video  num_comments  score  \\\n",
       "0           0   1545417655  a8czdm     False             0      1   \n",
       "1           1   1545415295  a8cklh     False             1      1   \n",
       "2           2   1545413557  a8c9tm     False             0      1   \n",
       "3           3   1545410154  a8bozn     False             4      1   \n",
       "4           4   1545404674  a8at5v     False             1      1   \n",
       "\n",
       "                                            selftext  spoiler    subreddit  \\\n",
       "0                                                NaN    False  blackmirror   \n",
       "1                                                NaN    False  blackmirror   \n",
       "2                                                NaN     True  blackmirror   \n",
       "3  not sure if i need to mark this as possible sp...     True  blackmirror   \n",
       "4                                                NaN    False  blackmirror   \n",
       "\n",
       "                                               title  \n",
       "0  MIT was able to reconstruct sound from the vib...  \n",
       "1  'Black Mirror: Bandersnatch' Synopsis, Runtime...  \n",
       "2                What is Black Mirror: Bandersnatch?  \n",
       "3                             White Christmas Ending  \n",
       "4  This is a playlist with songs from some of the...  "
      ]
     },
     "execution_count": 4,
     "metadata": {},
     "output_type": "execute_result"
    }
   ],
   "source": [
    "blackmirror.head()"
   ]
  },
  {
   "cell_type": "code",
   "execution_count": 5,
   "metadata": {
    "scrolled": true
   },
   "outputs": [
    {
     "data": {
      "text/html": [
       "<div>\n",
       "<style scoped>\n",
       "    .dataframe tbody tr th:only-of-type {\n",
       "        vertical-align: middle;\n",
       "    }\n",
       "\n",
       "    .dataframe tbody tr th {\n",
       "        vertical-align: top;\n",
       "    }\n",
       "\n",
       "    .dataframe thead th {\n",
       "        text-align: right;\n",
       "    }\n",
       "</style>\n",
       "<table border=\"1\" class=\"dataframe\">\n",
       "  <thead>\n",
       "    <tr style=\"text-align: right;\">\n",
       "      <th></th>\n",
       "      <th>Unnamed: 0</th>\n",
       "      <th>created_utc</th>\n",
       "      <th>id</th>\n",
       "      <th>is_video</th>\n",
       "      <th>num_comments</th>\n",
       "      <th>score</th>\n",
       "      <th>selftext</th>\n",
       "      <th>spoiler</th>\n",
       "      <th>subreddit</th>\n",
       "      <th>title</th>\n",
       "    </tr>\n",
       "  </thead>\n",
       "  <tbody>\n",
       "    <tr>\n",
       "      <th>0</th>\n",
       "      <td>0</td>\n",
       "      <td>1545416118</td>\n",
       "      <td>a8cprr</td>\n",
       "      <td>False</td>\n",
       "      <td>2</td>\n",
       "      <td>1</td>\n",
       "      <td>NaN</td>\n",
       "      <td>False</td>\n",
       "      <td>westworld</td>\n",
       "      <td>Is this....Bernard? Nah, just my friend's mom'...</td>\n",
       "    </tr>\n",
       "    <tr>\n",
       "      <th>1</th>\n",
       "      <td>1</td>\n",
       "      <td>1545377064</td>\n",
       "      <td>a87law</td>\n",
       "      <td>False</td>\n",
       "      <td>1</td>\n",
       "      <td>1</td>\n",
       "      <td>NaN</td>\n",
       "      <td>False</td>\n",
       "      <td>westworld</td>\n",
       "      <td>Is there cheaper ways to watch than Hulu?</td>\n",
       "    </tr>\n",
       "    <tr>\n",
       "      <th>2</th>\n",
       "      <td>2</td>\n",
       "      <td>1545371104</td>\n",
       "      <td>a86vwk</td>\n",
       "      <td>False</td>\n",
       "      <td>3</td>\n",
       "      <td>1</td>\n",
       "      <td>NaN</td>\n",
       "      <td>False</td>\n",
       "      <td>westworld</td>\n",
       "      <td>Anyone else think it’s funny that Tessa Thomps...</td>\n",
       "    </tr>\n",
       "    <tr>\n",
       "      <th>3</th>\n",
       "      <td>3</td>\n",
       "      <td>1545370046</td>\n",
       "      <td>a86r6o</td>\n",
       "      <td>False</td>\n",
       "      <td>0</td>\n",
       "      <td>1</td>\n",
       "      <td>NaN</td>\n",
       "      <td>False</td>\n",
       "      <td>westworld</td>\n",
       "      <td>Black Mirror [Online Game Code] is 67% OFF</td>\n",
       "    </tr>\n",
       "    <tr>\n",
       "      <th>4</th>\n",
       "      <td>4</td>\n",
       "      <td>1545364029</td>\n",
       "      <td>a860qt</td>\n",
       "      <td>False</td>\n",
       "      <td>2</td>\n",
       "      <td>1</td>\n",
       "      <td>NaN</td>\n",
       "      <td>False</td>\n",
       "      <td>westworld</td>\n",
       "      <td>Clicked on Trending and thought that they rele...</td>\n",
       "    </tr>\n",
       "  </tbody>\n",
       "</table>\n",
       "</div>"
      ],
      "text/plain": [
       "   Unnamed: 0  created_utc      id  is_video  num_comments  score selftext  \\\n",
       "0           0   1545416118  a8cprr     False             2      1      NaN   \n",
       "1           1   1545377064  a87law     False             1      1      NaN   \n",
       "2           2   1545371104  a86vwk     False             3      1      NaN   \n",
       "3           3   1545370046  a86r6o     False             0      1      NaN   \n",
       "4           4   1545364029  a860qt     False             2      1      NaN   \n",
       "\n",
       "   spoiler  subreddit                                              title  \n",
       "0    False  westworld  Is this....Bernard? Nah, just my friend's mom'...  \n",
       "1    False  westworld          Is there cheaper ways to watch than Hulu?  \n",
       "2    False  westworld  Anyone else think it’s funny that Tessa Thomps...  \n",
       "3    False  westworld         Black Mirror [Online Game Code] is 67% OFF  \n",
       "4    False  westworld  Clicked on Trending and thought that they rele...  "
      ]
     },
     "execution_count": 5,
     "metadata": {},
     "output_type": "execute_result"
    }
   ],
   "source": [
    "westworld.head()"
   ]
  },
  {
   "cell_type": "markdown",
   "metadata": {},
   "source": [
    "There are unnecassary 'Unnamed: 0' column that can deleted. Then the NAs should be dealt. In order to do that I excluded all the empty cells since we had more than enough even when I exclude them for my models to run"
   ]
  },
  {
   "cell_type": "code",
   "execution_count": 6,
   "metadata": {},
   "outputs": [],
   "source": [
    "blackmirror.drop('Unnamed: 0', inplace = True, axis = 1)\n",
    "westworld.drop('Unnamed: 0', inplace = True, axis = 1)"
   ]
  },
  {
   "cell_type": "code",
   "execution_count": 7,
   "metadata": {
    "scrolled": true
   },
   "outputs": [
    {
     "data": {
      "text/plain": [
       "created_utc        0\n",
       "id                 0\n",
       "is_video           0\n",
       "num_comments       0\n",
       "score              0\n",
       "selftext        4321\n",
       "spoiler            0\n",
       "subreddit          0\n",
       "title              0\n",
       "dtype: int64"
      ]
     },
     "execution_count": 7,
     "metadata": {},
     "output_type": "execute_result"
    }
   ],
   "source": [
    "blackmirror.isnull().sum()"
   ]
  },
  {
   "cell_type": "code",
   "execution_count": 8,
   "metadata": {},
   "outputs": [
    {
     "data": {
      "text/plain": [
       "created_utc        0\n",
       "id                 0\n",
       "is_video           0\n",
       "num_comments       0\n",
       "score              0\n",
       "selftext        4110\n",
       "spoiler            0\n",
       "subreddit          0\n",
       "title              0\n",
       "dtype: int64"
      ]
     },
     "execution_count": 8,
     "metadata": {},
     "output_type": "execute_result"
    }
   ],
   "source": [
    "westworld.isnull().sum()"
   ]
  },
  {
   "cell_type": "code",
   "execution_count": 9,
   "metadata": {},
   "outputs": [],
   "source": [
    "blackmirror = blackmirror[blackmirror.selftext.notnull()]"
   ]
  },
  {
   "cell_type": "code",
   "execution_count": 10,
   "metadata": {},
   "outputs": [
    {
     "data": {
      "text/plain": [
       "5679"
      ]
     },
     "execution_count": 10,
     "metadata": {},
     "output_type": "execute_result"
    }
   ],
   "source": [
    "blackmirror.shape[0]"
   ]
  },
  {
   "cell_type": "code",
   "execution_count": 11,
   "metadata": {},
   "outputs": [],
   "source": [
    "westworld = westworld[westworld.selftext.notnull()]"
   ]
  },
  {
   "cell_type": "code",
   "execution_count": 12,
   "metadata": {},
   "outputs": [
    {
     "data": {
      "text/plain": [
       "5890"
      ]
     },
     "execution_count": 12,
     "metadata": {},
     "output_type": "execute_result"
    }
   ],
   "source": [
    "westworld.shape[0]"
   ]
  },
  {
   "cell_type": "code",
   "execution_count": 13,
   "metadata": {},
   "outputs": [],
   "source": [
    "series = pd.concat([blackmirror, westworld], axis = 0)"
   ]
  },
  {
   "cell_type": "code",
   "execution_count": 14,
   "metadata": {
    "scrolled": true
   },
   "outputs": [
    {
     "data": {
      "text/html": [
       "<div>\n",
       "<style scoped>\n",
       "    .dataframe tbody tr th:only-of-type {\n",
       "        vertical-align: middle;\n",
       "    }\n",
       "\n",
       "    .dataframe tbody tr th {\n",
       "        vertical-align: top;\n",
       "    }\n",
       "\n",
       "    .dataframe thead th {\n",
       "        text-align: right;\n",
       "    }\n",
       "</style>\n",
       "<table border=\"1\" class=\"dataframe\">\n",
       "  <thead>\n",
       "    <tr style=\"text-align: right;\">\n",
       "      <th></th>\n",
       "      <th>created_utc</th>\n",
       "      <th>id</th>\n",
       "      <th>is_video</th>\n",
       "      <th>num_comments</th>\n",
       "      <th>score</th>\n",
       "      <th>selftext</th>\n",
       "      <th>spoiler</th>\n",
       "      <th>subreddit</th>\n",
       "      <th>title</th>\n",
       "    </tr>\n",
       "  </thead>\n",
       "  <tbody>\n",
       "    <tr>\n",
       "      <th>3</th>\n",
       "      <td>1545410154</td>\n",
       "      <td>a8bozn</td>\n",
       "      <td>False</td>\n",
       "      <td>4</td>\n",
       "      <td>1</td>\n",
       "      <td>not sure if i need to mark this as possible sp...</td>\n",
       "      <td>True</td>\n",
       "      <td>blackmirror</td>\n",
       "      <td>White Christmas Ending</td>\n",
       "    </tr>\n",
       "    <tr>\n",
       "      <th>6</th>\n",
       "      <td>1545373691</td>\n",
       "      <td>a877em</td>\n",
       "      <td>False</td>\n",
       "      <td>4</td>\n",
       "      <td>1</td>\n",
       "      <td>Correct me if I'm wrong, but Bandersnatch woul...</td>\n",
       "      <td>True</td>\n",
       "      <td>blackmirror</td>\n",
       "      <td>How could Bandersnatch's unique choice-based f...</td>\n",
       "    </tr>\n",
       "    <tr>\n",
       "      <th>8</th>\n",
       "      <td>1545369058</td>\n",
       "      <td>a86mla</td>\n",
       "      <td>False</td>\n",
       "      <td>5</td>\n",
       "      <td>1</td>\n",
       "      <td>The purpose of the CP reveal is not there to m...</td>\n",
       "      <td>False</td>\n",
       "      <td>blackmirror</td>\n",
       "      <td>A rant about peoples' reactions to SUAD</td>\n",
       "    </tr>\n",
       "    <tr>\n",
       "      <th>12</th>\n",
       "      <td>1545362860</td>\n",
       "      <td>a85vmm</td>\n",
       "      <td>False</td>\n",
       "      <td>5</td>\n",
       "      <td>1</td>\n",
       "      <td>Mine was The Entire History of You. The techno...</td>\n",
       "      <td>False</td>\n",
       "      <td>blackmirror</td>\n",
       "      <td>Which episode got you hooked on Black Mirror?</td>\n",
       "    </tr>\n",
       "    <tr>\n",
       "      <th>13</th>\n",
       "      <td>1545354878</td>\n",
       "      <td>a84uyn</td>\n",
       "      <td>False</td>\n",
       "      <td>9</td>\n",
       "      <td>1</td>\n",
       "      <td>For me it wasn’t surprising because I already ...</td>\n",
       "      <td>True</td>\n",
       "      <td>blackmirror</td>\n",
       "      <td>Was Shut Up and Dance not surprising to anyone...</td>\n",
       "    </tr>\n",
       "  </tbody>\n",
       "</table>\n",
       "</div>"
      ],
      "text/plain": [
       "    created_utc      id  is_video  num_comments  score  \\\n",
       "3    1545410154  a8bozn     False             4      1   \n",
       "6    1545373691  a877em     False             4      1   \n",
       "8    1545369058  a86mla     False             5      1   \n",
       "12   1545362860  a85vmm     False             5      1   \n",
       "13   1545354878  a84uyn     False             9      1   \n",
       "\n",
       "                                             selftext  spoiler    subreddit  \\\n",
       "3   not sure if i need to mark this as possible sp...     True  blackmirror   \n",
       "6   Correct me if I'm wrong, but Bandersnatch woul...     True  blackmirror   \n",
       "8   The purpose of the CP reveal is not there to m...    False  blackmirror   \n",
       "12  Mine was The Entire History of You. The techno...    False  blackmirror   \n",
       "13  For me it wasn’t surprising because I already ...     True  blackmirror   \n",
       "\n",
       "                                                title  \n",
       "3                              White Christmas Ending  \n",
       "6   How could Bandersnatch's unique choice-based f...  \n",
       "8             A rant about peoples' reactions to SUAD  \n",
       "12      Which episode got you hooked on Black Mirror?  \n",
       "13  Was Shut Up and Dance not surprising to anyone...  "
      ]
     },
     "execution_count": 14,
     "metadata": {},
     "output_type": "execute_result"
    }
   ],
   "source": [
    "series.head()"
   ]
  },
  {
   "cell_type": "markdown",
   "metadata": {},
   "source": [
    "Then some columns need some changes:\n",
    "- is_video is replaced with 1 and 0's so that there are only numeric values\n",
    "- spoiler column revised in a same way.\n",
    "- subreddit column is so revised that instead of Blackmirror, the cells were assigned 1 and instead of WestWorld they were assigned 0.\n"
   ]
  },
  {
   "cell_type": "code",
   "execution_count": 15,
   "metadata": {},
   "outputs": [
    {
     "data": {
      "text/plain": [
       "False    11557\n",
       "True        12\n",
       "Name: is_video, dtype: int64"
      ]
     },
     "execution_count": 15,
     "metadata": {},
     "output_type": "execute_result"
    }
   ],
   "source": [
    "series['is_video'].value_counts()"
   ]
  },
  {
   "cell_type": "code",
   "execution_count": 16,
   "metadata": {},
   "outputs": [],
   "source": [
    "series.drop('is_video', inplace = True, axis = 1)"
   ]
  },
  {
   "cell_type": "code",
   "execution_count": 17,
   "metadata": {},
   "outputs": [
    {
     "data": {
      "text/plain": [
       "False    7392\n",
       "True     4177\n",
       "Name: spoiler, dtype: int64"
      ]
     },
     "execution_count": 17,
     "metadata": {},
     "output_type": "execute_result"
    }
   ],
   "source": [
    "series['spoiler'].value_counts()"
   ]
  },
  {
   "cell_type": "code",
   "execution_count": 18,
   "metadata": {},
   "outputs": [],
   "source": [
    "series['spoiler'] = series['spoiler'].astype(int)"
   ]
  },
  {
   "cell_type": "code",
   "execution_count": 19,
   "metadata": {
    "scrolled": true
   },
   "outputs": [],
   "source": [
    "series.subreddit = series.subreddit.map(lambda cell: 1 if cell == 'blackmirror' else 0)"
   ]
  },
  {
   "cell_type": "code",
   "execution_count": 20,
   "metadata": {},
   "outputs": [
    {
     "data": {
      "text/html": [
       "<div>\n",
       "<style scoped>\n",
       "    .dataframe tbody tr th:only-of-type {\n",
       "        vertical-align: middle;\n",
       "    }\n",
       "\n",
       "    .dataframe tbody tr th {\n",
       "        vertical-align: top;\n",
       "    }\n",
       "\n",
       "    .dataframe thead th {\n",
       "        text-align: right;\n",
       "    }\n",
       "</style>\n",
       "<table border=\"1\" class=\"dataframe\">\n",
       "  <thead>\n",
       "    <tr style=\"text-align: right;\">\n",
       "      <th></th>\n",
       "      <th>created_utc</th>\n",
       "      <th>id</th>\n",
       "      <th>num_comments</th>\n",
       "      <th>score</th>\n",
       "      <th>selftext</th>\n",
       "      <th>spoiler</th>\n",
       "      <th>subreddit</th>\n",
       "      <th>title</th>\n",
       "    </tr>\n",
       "  </thead>\n",
       "  <tbody>\n",
       "    <tr>\n",
       "      <th>3</th>\n",
       "      <td>1545410154</td>\n",
       "      <td>a8bozn</td>\n",
       "      <td>4</td>\n",
       "      <td>1</td>\n",
       "      <td>not sure if i need to mark this as possible sp...</td>\n",
       "      <td>1</td>\n",
       "      <td>1</td>\n",
       "      <td>White Christmas Ending</td>\n",
       "    </tr>\n",
       "    <tr>\n",
       "      <th>6</th>\n",
       "      <td>1545373691</td>\n",
       "      <td>a877em</td>\n",
       "      <td>4</td>\n",
       "      <td>1</td>\n",
       "      <td>Correct me if I'm wrong, but Bandersnatch woul...</td>\n",
       "      <td>1</td>\n",
       "      <td>1</td>\n",
       "      <td>How could Bandersnatch's unique choice-based f...</td>\n",
       "    </tr>\n",
       "    <tr>\n",
       "      <th>8</th>\n",
       "      <td>1545369058</td>\n",
       "      <td>a86mla</td>\n",
       "      <td>5</td>\n",
       "      <td>1</td>\n",
       "      <td>The purpose of the CP reveal is not there to m...</td>\n",
       "      <td>0</td>\n",
       "      <td>1</td>\n",
       "      <td>A rant about peoples' reactions to SUAD</td>\n",
       "    </tr>\n",
       "    <tr>\n",
       "      <th>12</th>\n",
       "      <td>1545362860</td>\n",
       "      <td>a85vmm</td>\n",
       "      <td>5</td>\n",
       "      <td>1</td>\n",
       "      <td>Mine was The Entire History of You. The techno...</td>\n",
       "      <td>0</td>\n",
       "      <td>1</td>\n",
       "      <td>Which episode got you hooked on Black Mirror?</td>\n",
       "    </tr>\n",
       "    <tr>\n",
       "      <th>13</th>\n",
       "      <td>1545354878</td>\n",
       "      <td>a84uyn</td>\n",
       "      <td>9</td>\n",
       "      <td>1</td>\n",
       "      <td>For me it wasn’t surprising because I already ...</td>\n",
       "      <td>1</td>\n",
       "      <td>1</td>\n",
       "      <td>Was Shut Up and Dance not surprising to anyone...</td>\n",
       "    </tr>\n",
       "  </tbody>\n",
       "</table>\n",
       "</div>"
      ],
      "text/plain": [
       "    created_utc      id  num_comments  score  \\\n",
       "3    1545410154  a8bozn             4      1   \n",
       "6    1545373691  a877em             4      1   \n",
       "8    1545369058  a86mla             5      1   \n",
       "12   1545362860  a85vmm             5      1   \n",
       "13   1545354878  a84uyn             9      1   \n",
       "\n",
       "                                             selftext  spoiler  subreddit  \\\n",
       "3   not sure if i need to mark this as possible sp...        1          1   \n",
       "6   Correct me if I'm wrong, but Bandersnatch woul...        1          1   \n",
       "8   The purpose of the CP reveal is not there to m...        0          1   \n",
       "12  Mine was The Entire History of You. The techno...        0          1   \n",
       "13  For me it wasn’t surprising because I already ...        1          1   \n",
       "\n",
       "                                                title  \n",
       "3                              White Christmas Ending  \n",
       "6   How could Bandersnatch's unique choice-based f...  \n",
       "8             A rant about peoples' reactions to SUAD  \n",
       "12      Which episode got you hooked on Black Mirror?  \n",
       "13  Was Shut Up and Dance not surprising to anyone...  "
      ]
     },
     "execution_count": 20,
     "metadata": {},
     "output_type": "execute_result"
    }
   ],
   "source": [
    "series.head()"
   ]
  },
  {
   "cell_type": "code",
   "execution_count": 21,
   "metadata": {
    "scrolled": true
   },
   "outputs": [
    {
     "data": {
      "text/plain": [
       "0    0.509119\n",
       "1    0.490881\n",
       "Name: subreddit, dtype: float64"
      ]
     },
     "execution_count": 21,
     "metadata": {},
     "output_type": "execute_result"
    }
   ],
   "source": [
    "series.subreddit.value_counts(normalize = True)"
   ]
  },
  {
   "cell_type": "code",
   "execution_count": 22,
   "metadata": {},
   "outputs": [],
   "source": [
    "series = (series[series.selftext != \"[removed]\"])\n",
    "series = (series[series.selftext != \"[deleted]\"])"
   ]
  },
  {
   "cell_type": "code",
   "execution_count": 23,
   "metadata": {},
   "outputs": [],
   "source": [
    "series = series.reset_index(drop=True)"
   ]
  },
  {
   "cell_type": "code",
   "execution_count": 24,
   "metadata": {},
   "outputs": [
    {
     "data": {
      "text/html": [
       "<div>\n",
       "<style scoped>\n",
       "    .dataframe tbody tr th:only-of-type {\n",
       "        vertical-align: middle;\n",
       "    }\n",
       "\n",
       "    .dataframe tbody tr th {\n",
       "        vertical-align: top;\n",
       "    }\n",
       "\n",
       "    .dataframe thead th {\n",
       "        text-align: right;\n",
       "    }\n",
       "</style>\n",
       "<table border=\"1\" class=\"dataframe\">\n",
       "  <thead>\n",
       "    <tr style=\"text-align: right;\">\n",
       "      <th></th>\n",
       "      <th>created_utc</th>\n",
       "      <th>id</th>\n",
       "      <th>num_comments</th>\n",
       "      <th>score</th>\n",
       "      <th>selftext</th>\n",
       "      <th>spoiler</th>\n",
       "      <th>subreddit</th>\n",
       "      <th>title</th>\n",
       "    </tr>\n",
       "  </thead>\n",
       "  <tbody>\n",
       "    <tr>\n",
       "      <th>0</th>\n",
       "      <td>1545410154</td>\n",
       "      <td>a8bozn</td>\n",
       "      <td>4</td>\n",
       "      <td>1</td>\n",
       "      <td>not sure if i need to mark this as possible sp...</td>\n",
       "      <td>1</td>\n",
       "      <td>1</td>\n",
       "      <td>White Christmas Ending</td>\n",
       "    </tr>\n",
       "    <tr>\n",
       "      <th>1</th>\n",
       "      <td>1545373691</td>\n",
       "      <td>a877em</td>\n",
       "      <td>4</td>\n",
       "      <td>1</td>\n",
       "      <td>Correct me if I'm wrong, but Bandersnatch woul...</td>\n",
       "      <td>1</td>\n",
       "      <td>1</td>\n",
       "      <td>How could Bandersnatch's unique choice-based f...</td>\n",
       "    </tr>\n",
       "    <tr>\n",
       "      <th>2</th>\n",
       "      <td>1545369058</td>\n",
       "      <td>a86mla</td>\n",
       "      <td>5</td>\n",
       "      <td>1</td>\n",
       "      <td>The purpose of the CP reveal is not there to m...</td>\n",
       "      <td>0</td>\n",
       "      <td>1</td>\n",
       "      <td>A rant about peoples' reactions to SUAD</td>\n",
       "    </tr>\n",
       "    <tr>\n",
       "      <th>3</th>\n",
       "      <td>1545362860</td>\n",
       "      <td>a85vmm</td>\n",
       "      <td>5</td>\n",
       "      <td>1</td>\n",
       "      <td>Mine was The Entire History of You. The techno...</td>\n",
       "      <td>0</td>\n",
       "      <td>1</td>\n",
       "      <td>Which episode got you hooked on Black Mirror?</td>\n",
       "    </tr>\n",
       "    <tr>\n",
       "      <th>4</th>\n",
       "      <td>1545354878</td>\n",
       "      <td>a84uyn</td>\n",
       "      <td>9</td>\n",
       "      <td>1</td>\n",
       "      <td>For me it wasn’t surprising because I already ...</td>\n",
       "      <td>1</td>\n",
       "      <td>1</td>\n",
       "      <td>Was Shut Up and Dance not surprising to anyone...</td>\n",
       "    </tr>\n",
       "  </tbody>\n",
       "</table>\n",
       "</div>"
      ],
      "text/plain": [
       "   created_utc      id  num_comments  score  \\\n",
       "0   1545410154  a8bozn             4      1   \n",
       "1   1545373691  a877em             4      1   \n",
       "2   1545369058  a86mla             5      1   \n",
       "3   1545362860  a85vmm             5      1   \n",
       "4   1545354878  a84uyn             9      1   \n",
       "\n",
       "                                            selftext  spoiler  subreddit  \\\n",
       "0  not sure if i need to mark this as possible sp...        1          1   \n",
       "1  Correct me if I'm wrong, but Bandersnatch woul...        1          1   \n",
       "2  The purpose of the CP reveal is not there to m...        0          1   \n",
       "3  Mine was The Entire History of You. The techno...        0          1   \n",
       "4  For me it wasn’t surprising because I already ...        1          1   \n",
       "\n",
       "                                               title  \n",
       "0                             White Christmas Ending  \n",
       "1  How could Bandersnatch's unique choice-based f...  \n",
       "2            A rant about peoples' reactions to SUAD  \n",
       "3      Which episode got you hooked on Black Mirror?  \n",
       "4  Was Shut Up and Dance not surprising to anyone...  "
      ]
     },
     "execution_count": 24,
     "metadata": {},
     "output_type": "execute_result"
    }
   ],
   "source": [
    "series.head()"
   ]
  },
  {
   "cell_type": "markdown",
   "metadata": {},
   "source": [
    "## Analysis"
   ]
  },
  {
   "cell_type": "markdown",
   "metadata": {},
   "source": [
    "In the analysis section, I created a function with the name of 'prep_post'. That enables me to clear the html errors, remove the punctuations and english stop words and finally to stem the words."
   ]
  },
  {
   "cell_type": "markdown",
   "metadata": {},
   "source": [
    "### Preparation Function"
   ]
  },
  {
   "cell_type": "code",
   "execution_count": 27,
   "metadata": {},
   "outputs": [],
   "source": [
    "def prep_post(raw_post, column):\n",
    "    # Function to convert a raw review to a string of words\n",
    "    # The input is a single string (a raw movie review), and \n",
    "    # the output is a single string (a preprocessed movie review)\n",
    "    #\n",
    "    for i in range(0,len(raw_post[column])):\n",
    "        # 1. Remove HTML\n",
    "        review_text = BeautifulSoup(raw_post[column][i]).get_text()\n",
    "            #\n",
    "            # 2. Remove non-letters        \n",
    "        letters_only = re.sub(\"[^a-zA-Z]\", \" \", review_text)\n",
    "           #\n",
    "            # 3. Convert to lower case, split into individual words\n",
    "        words = letters_only.lower().split()\n",
    "            #\n",
    "            # 4. In Python, searching a set is much faster than searching\n",
    "            #   a list, so convert the stop words to a set\n",
    "        stops = set(stopwords.words('english'))\n",
    "            # \n",
    "            # 5. Remove stop words\n",
    "        meaningful_words = [w for w in words if not w in stops]\n",
    "            #\n",
    "            # 6. Stemming\n",
    "        p_stemmer = PorterStemmer()\n",
    "        stem_post = [p_stemmer.stem(i) for i in meaningful_words]\n",
    "            #\n",
    "            # 7. Join the words back into one string separated by space, \n",
    "            # and return the result.\n",
    "        raw_post[column][i] = (\" \".join(stem_post))\n",
    "    "
   ]
  },
  {
   "cell_type": "markdown",
   "metadata": {},
   "source": [
    "This function is run on two columns:\n",
    "- selftext\n",
    "- title\n",
    "\n",
    "The reason is that I want to see the prediction capabilities of the models based on text and the titles.\n",
    "\n",
    "Finally the series dataframe is extracted with a csv file called 'series.csv'"
   ]
  },
  {
   "cell_type": "code",
   "execution_count": 60,
   "metadata": {},
   "outputs": [
    {
     "name": "stderr",
     "output_type": "stream",
     "text": [
      "C:\\Users\\demir\\Anaconda3\\lib\\site-packages\\ipykernel_launcher.py:29: SettingWithCopyWarning: \n",
      "A value is trying to be set on a copy of a slice from a DataFrame\n",
      "\n",
      "See the caveats in the documentation: http://pandas.pydata.org/pandas-docs/stable/indexing.html#indexing-view-versus-copy\n",
      "C:\\Users\\demir\\Anaconda3\\lib\\site-packages\\bs4\\__init__.py:336: UserWarning: \"https://explore.orcam.com/MYME_1\" looks like a URL. Beautiful Soup is not an HTTP client. You should probably use an HTTP client like requests to get the document behind the URL, and feed that document to Beautiful Soup.\n",
      "  ' that document to Beautiful Soup.' % decoded_markup\n",
      "C:\\Users\\demir\\Anaconda3\\lib\\site-packages\\bs4\\__init__.py:336: UserWarning: \"https://i.redd.it/v38o6mw7m7b11.png\" looks like a URL. Beautiful Soup is not an HTTP client. You should probably use an HTTP client like requests to get the document behind the URL, and feed that document to Beautiful Soup.\n",
      "  ' that document to Beautiful Soup.' % decoded_markup\n",
      "C:\\Users\\demir\\Anaconda3\\lib\\site-packages\\bs4\\__init__.py:336: UserWarning: \"https://i.redd.it/mxk2nnddck611.png\" looks like a URL. Beautiful Soup is not an HTTP client. You should probably use an HTTP client like requests to get the document behind the URL, and feed that document to Beautiful Soup.\n",
      "  ' that document to Beautiful Soup.' % decoded_markup\n",
      "C:\\Users\\demir\\Anaconda3\\lib\\site-packages\\bs4\\__init__.py:336: UserWarning: \"https://imgur.com/a/uAHZjFZ\n",
      "\" looks like a URL. Beautiful Soup is not an HTTP client. You should probably use an HTTP client like requests to get the document behind the URL, and feed that document to Beautiful Soup.\n",
      "  ' that document to Beautiful Soup.' % decoded_markup\n",
      "C:\\Users\\demir\\Anaconda3\\lib\\site-packages\\bs4\\__init__.py:336: UserWarning: \"https://www.youtube.com/watch?v=QrE17OVVW_E\" looks like a URL. Beautiful Soup is not an HTTP client. You should probably use an HTTP client like requests to get the document behind the URL, and feed that document to Beautiful Soup.\n",
      "  ' that document to Beautiful Soup.' % decoded_markup\n",
      "C:\\Users\\demir\\Anaconda3\\lib\\site-packages\\bs4\\__init__.py:336: UserWarning: \"https://i.redd.it/2gemczjudze11.jpg\" looks like a URL. Beautiful Soup is not an HTTP client. You should probably use an HTTP client like requests to get the document behind the URL, and feed that document to Beautiful Soup.\n",
      "  ' that document to Beautiful Soup.' % decoded_markup\n",
      "C:\\Users\\demir\\Anaconda3\\lib\\site-packages\\bs4\\__init__.py:336: UserWarning: \"https://i.redd.it/e90p8cjgite11.jpg\" looks like a URL. Beautiful Soup is not an HTTP client. You should probably use an HTTP client like requests to get the document behind the URL, and feed that document to Beautiful Soup.\n",
      "  ' that document to Beautiful Soup.' % decoded_markup\n",
      "C:\\Users\\demir\\Anaconda3\\lib\\site-packages\\bs4\\__init__.py:336: UserWarning: \"https://i.redd.it/pnpcrnp5dke11.png\" looks like a URL. Beautiful Soup is not an HTTP client. You should probably use an HTTP client like requests to get the document behind the URL, and feed that document to Beautiful Soup.\n",
      "  ' that document to Beautiful Soup.' % decoded_markup\n",
      "C:\\Users\\demir\\Anaconda3\\lib\\site-packages\\bs4\\__init__.py:336: UserWarning: \"https://imgur.com/gallery/sv2fLnU\" looks like a URL. Beautiful Soup is not an HTTP client. You should probably use an HTTP client like requests to get the document behind the URL, and feed that document to Beautiful Soup.\n",
      "  ' that document to Beautiful Soup.' % decoded_markup\n",
      "C:\\Users\\demir\\Anaconda3\\lib\\site-packages\\bs4\\__init__.py:336: UserWarning: \"https://imgur.com/gallery/9hlUKE8\" looks like a URL. Beautiful Soup is not an HTTP client. You should probably use an HTTP client like requests to get the document behind the URL, and feed that document to Beautiful Soup.\n",
      "  ' that document to Beautiful Soup.' % decoded_markup\n",
      "C:\\Users\\demir\\Anaconda3\\lib\\site-packages\\bs4\\__init__.py:336: UserWarning: \"https://i.redd.it/8h33nfzwmbb11.jpg\" looks like a URL. Beautiful Soup is not an HTTP client. You should probably use an HTTP client like requests to get the document behind the URL, and feed that document to Beautiful Soup.\n",
      "  ' that document to Beautiful Soup.' % decoded_markup\n",
      "C:\\Users\\demir\\Anaconda3\\lib\\site-packages\\bs4\\__init__.py:336: UserWarning: \"https://www.reddit.com/r/nottheonion/comments/8xirko/reddit_ceo_tells_user_we_are_not_the_thought/e23rfad?utm_source=reddit-android\" looks like a URL. Beautiful Soup is not an HTTP client. You should probably use an HTTP client like requests to get the document behind the URL, and feed that document to Beautiful Soup.\n",
      "  ' that document to Beautiful Soup.' % decoded_markup\n",
      "C:\\Users\\demir\\Anaconda3\\lib\\site-packages\\bs4\\__init__.py:336: UserWarning: \"https://i.redd.it/a67qv8pcpr811.png\" looks like a URL. Beautiful Soup is not an HTTP client. You should probably use an HTTP client like requests to get the document behind the URL, and feed that document to Beautiful Soup.\n",
      "  ' that document to Beautiful Soup.' % decoded_markup\n",
      "C:\\Users\\demir\\Anaconda3\\lib\\site-packages\\bs4\\__init__.py:336: UserWarning: \"https://i.redd.it/gu6aybvk9m711.jpg\" looks like a URL. Beautiful Soup is not an HTTP client. You should probably use an HTTP client like requests to get the document behind the URL, and feed that document to Beautiful Soup.\n",
      "  ' that document to Beautiful Soup.' % decoded_markup\n",
      "C:\\Users\\demir\\Anaconda3\\lib\\site-packages\\bs4\\__init__.py:336: UserWarning: \"https://old.reddit.com/r/westworld/comments/8odz9g/theory_so_clementine/\n",
      "\n",
      "\" looks like a URL. Beautiful Soup is not an HTTP client. You should probably use an HTTP client like requests to get the document behind the URL, and feed that document to Beautiful Soup.\n",
      "  ' that document to Beautiful Soup.' % decoded_markup\n",
      "C:\\Users\\demir\\Anaconda3\\lib\\site-packages\\bs4\\__init__.py:336: UserWarning: \"https://i.redd.it/lvfmnmpn5s611.jpg\" looks like a URL. Beautiful Soup is not an HTTP client. You should probably use an HTTP client like requests to get the document behind the URL, and feed that document to Beautiful Soup.\n",
      "  ' that document to Beautiful Soup.' % decoded_markup\n",
      "C:\\Users\\demir\\Anaconda3\\lib\\site-packages\\bs4\\__init__.py:336: UserWarning: \"https://i.redd.it/d3bwtb9c2s611.png\" looks like a URL. Beautiful Soup is not an HTTP client. You should probably use an HTTP client like requests to get the document behind the URL, and feed that document to Beautiful Soup.\n",
      "  ' that document to Beautiful Soup.' % decoded_markup\n",
      "C:\\Users\\demir\\Anaconda3\\lib\\site-packages\\bs4\\__init__.py:336: UserWarning: \"https://i.redd.it/txb9m9c4yp611.png\" looks like a URL. Beautiful Soup is not an HTTP client. You should probably use an HTTP client like requests to get the document behind the URL, and feed that document to Beautiful Soup.\n",
      "  ' that document to Beautiful Soup.' % decoded_markup\n",
      "C:\\Users\\demir\\Anaconda3\\lib\\site-packages\\bs4\\__init__.py:336: UserWarning: \"https://i.redd.it/u9y7vpe3ko611.jpg\" looks like a URL. Beautiful Soup is not an HTTP client. You should probably use an HTTP client like requests to get the document behind the URL, and feed that document to Beautiful Soup.\n",
      "  ' that document to Beautiful Soup.' % decoded_markup\n",
      "C:\\Users\\demir\\Anaconda3\\lib\\site-packages\\bs4\\__init__.py:336: UserWarning: \"https://i.redd.it/3xcf0iv2fl611.jpg\" looks like a URL. Beautiful Soup is not an HTTP client. You should probably use an HTTP client like requests to get the document behind the URL, and feed that document to Beautiful Soup.\n",
      "  ' that document to Beautiful Soup.' % decoded_markup\n",
      "C:\\Users\\demir\\Anaconda3\\lib\\site-packages\\bs4\\__init__.py:336: UserWarning: \"https://i.redd.it/jym2bizibk611.png\" looks like a URL. Beautiful Soup is not an HTTP client. You should probably use an HTTP client like requests to get the document behind the URL, and feed that document to Beautiful Soup.\n",
      "  ' that document to Beautiful Soup.' % decoded_markup\n",
      "C:\\Users\\demir\\Anaconda3\\lib\\site-packages\\bs4\\__init__.py:336: UserWarning: \"https://imgur.com/a/cOOEgjv\" looks like a URL. Beautiful Soup is not an HTTP client. You should probably use an HTTP client like requests to get the document behind the URL, and feed that document to Beautiful Soup.\n",
      "  ' that document to Beautiful Soup.' % decoded_markup\n"
     ]
    },
    {
     "name": "stderr",
     "output_type": "stream",
     "text": [
      "C:\\Users\\demir\\Anaconda3\\lib\\site-packages\\bs4\\__init__.py:336: UserWarning: \"https://open.spotify.com/album/34qXBFm8xxVu4jMvIHLvOb?si=Rx2xtV_0SWOgI2rE_K0YtQ\n",
      "\n",
      "https://play.google.com/music/m/Bd44qbfo64bal2ywbyq424vrb4m?t=Westworld_Season_2_Music_from_the_HBO_Series_-_Ramin_Djawadi\" looks like a URL. Beautiful Soup is not an HTTP client. You should probably use an HTTP client like requests to get the document behind the URL, and feed that document to Beautiful Soup.\n",
      "  ' that document to Beautiful Soup.' % decoded_markup\n",
      "C:\\Users\\demir\\Anaconda3\\lib\\site-packages\\bs4\\__init__.py:336: UserWarning: \"https://imgur.com/TGQVFQU\n",
      "\n",
      "https://imgur.com/QTI07eN\" looks like a URL. Beautiful Soup is not an HTTP client. You should probably use an HTTP client like requests to get the document behind the URL, and feed that document to Beautiful Soup.\n",
      "  ' that document to Beautiful Soup.' % decoded_markup\n",
      "C:\\Users\\demir\\Anaconda3\\lib\\site-packages\\bs4\\__init__.py:336: UserWarning: \"https://www.hollywoodreporter.com/live-feed/westworld-season-2-finale-explained-lisa-joy-season-3-1122744\" looks like a URL. Beautiful Soup is not an HTTP client. You should probably use an HTTP client like requests to get the document behind the URL, and feed that document to Beautiful Soup.\n",
      "  ' that document to Beautiful Soup.' % decoded_markup\n",
      "C:\\Users\\demir\\Anaconda3\\lib\\site-packages\\bs4\\__init__.py:336: UserWarning: \"https://youtu.be/azOWjmfUqVw\" looks like a URL. Beautiful Soup is not an HTTP client. You should probably use an HTTP client like requests to get the document behind the URL, and feed that document to Beautiful Soup.\n",
      "  ' that document to Beautiful Soup.' % decoded_markup\n",
      "C:\\Users\\demir\\Anaconda3\\lib\\site-packages\\bs4\\__init__.py:336: UserWarning: \"https://www.theguardian.com/tv-and-radio/2018/jun/22/from-the-futureworld-conspiracy-to-bt-the-best-westworld-fan-theories\" looks like a URL. Beautiful Soup is not an HTTP client. You should probably use an HTTP client like requests to get the document behind the URL, and feed that document to Beautiful Soup.\n",
      "  ' that document to Beautiful Soup.' % decoded_markup\n",
      "C:\\Users\\demir\\Anaconda3\\lib\\site-packages\\bs4\\__init__.py:336: UserWarning: \"https://twitter.com/search?f=tweets&amp;vertical=default&amp;q=%23Westworld&amp;src=tyah\n",
      "\" looks like a URL. Beautiful Soup is not an HTTP client. You should probably use an HTTP client like requests to get the document behind the URL, and feed that document to Beautiful Soup.\n",
      "  ' that document to Beautiful Soup.' % decoded_markup\n",
      "C:\\Users\\demir\\Anaconda3\\lib\\site-packages\\bs4\\__init__.py:336: UserWarning: \"http://www.denofgeek.com/uk/tv/westworld/58568/westworld-why-maggie-simpson-is-key-to-the-season-2-finale\n",
      "\" looks like a URL. Beautiful Soup is not an HTTP client. You should probably use an HTTP client like requests to get the document behind the URL, and feed that document to Beautiful Soup.\n",
      "  ' that document to Beautiful Soup.' % decoded_markup\n",
      "C:\\Users\\demir\\Anaconda3\\lib\\site-packages\\bs4\\__init__.py:336: UserWarning: \"https://i.redd.it/i5lfjbmwur411.png\" looks like a URL. Beautiful Soup is not an HTTP client. You should probably use an HTTP client like requests to get the document behind the URL, and feed that document to Beautiful Soup.\n",
      "  ' that document to Beautiful Soup.' % decoded_markup\n",
      "C:\\Users\\demir\\Anaconda3\\lib\\site-packages\\bs4\\__init__.py:336: UserWarning: \"https://tv.avclub.com/westworld-gets-lost-in-the-darkness-1826902602\" looks like a URL. Beautiful Soup is not an HTTP client. You should probably use an HTTP client like requests to get the document behind the URL, and feed that document to Beautiful Soup.\n",
      "  ' that document to Beautiful Soup.' % decoded_markup\n",
      "C:\\Users\\demir\\Anaconda3\\lib\\site-packages\\bs4\\__init__.py:336: UserWarning: \"https://www.delosdestinations.com/intranet/mesh-bernard/\" looks like a URL. Beautiful Soup is not an HTTP client. You should probably use an HTTP client like requests to get the document behind the URL, and feed that document to Beautiful Soup.\n",
      "  ' that document to Beautiful Soup.' % decoded_markup\n",
      "C:\\Users\\demir\\Anaconda3\\lib\\site-packages\\bs4\\__init__.py:336: UserWarning: \"https://www.reddit.com/r/westworld/comments/8mmkw7/comment/dzoz1ee?st=JIJOO9QC&amp;sh=d4c12ac7\" looks like a URL. Beautiful Soup is not an HTTP client. You should probably use an HTTP client like requests to get the document behind the URL, and feed that document to Beautiful Soup.\n",
      "  ' that document to Beautiful Soup.' % decoded_markup\n",
      "C:\\Users\\demir\\Anaconda3\\lib\\site-packages\\bs4\\__init__.py:273: UserWarning: \"b'.'\" looks like a filename, not markup. You should probably open this file and pass the filehandle into Beautiful Soup.\n",
      "  ' Beautiful Soup.' % markup)\n",
      "C:\\Users\\demir\\Anaconda3\\lib\\site-packages\\bs4\\__init__.py:336: UserWarning: \"https://discoverwestworld.com/#experience\" looks like a URL. Beautiful Soup is not an HTTP client. You should probably use an HTTP client like requests to get the document behind the URL, and feed that document to Beautiful Soup.\n",
      "  ' that document to Beautiful Soup.' % decoded_markup\n"
     ]
    }
   ],
   "source": [
    "prep_post(series, 'selftext')\n",
    "prep_post(series, 'title')\n",
    "# prep_post(X_test, 'selftext')\n",
    "# prep_post(X_test, 'title')"
   ]
  },
  {
   "cell_type": "code",
   "execution_count": 61,
   "metadata": {},
   "outputs": [],
   "source": [
    "series.to_csv('series.csv')"
   ]
  }
 ],
 "metadata": {
  "kernelspec": {
   "display_name": "Python 3",
   "language": "python",
   "name": "python3"
  },
  "language_info": {
   "codemirror_mode": {
    "name": "ipython",
    "version": 3
   },
   "file_extension": ".py",
   "mimetype": "text/x-python",
   "name": "python",
   "nbconvert_exporter": "python",
   "pygments_lexer": "ipython3",
   "version": "3.6.6"
  }
 },
 "nbformat": 4,
 "nbformat_minor": 2
}
